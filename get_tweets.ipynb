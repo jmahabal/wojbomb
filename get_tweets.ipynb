{
 "cells": [
  {
   "cell_type": "code",
   "execution_count": null,
   "metadata": {
    "collapsed": true
   },
   "outputs": [],
   "source": [
    "import pandas as pd\n",
    "import sklearn\n",
    "import tweepy\n",
    "import csv\n",
    "import json"
   ]
  },
  {
   "cell_type": "code",
   "execution_count": null,
   "metadata": {
    "collapsed": true
   },
   "outputs": [],
   "source": [
    "# Load Twitter tokens\n",
    "\n",
    "with open('secrets.json') as data_file:    \n",
    "    secrets = json.load(data_file)"
   ]
  },
  {
   "cell_type": "code",
   "execution_count": null,
   "metadata": {
    "collapsed": true
   },
   "outputs": [],
   "source": [
    "def get_all_tweets(screen_name):\n",
    "    # Twitter only allows access to a users most recent 3240 tweets with this method\n",
    "    \n",
    "    # Authorize twitter, initialize tweepy\n",
    "    auth = tweepy.OAuthHandler(secrets[\"consumer_key\"], secrets[\"consumer_secret\"])\n",
    "    auth.set_access_token(secrets[\"access_key\"], secrets[\"access_secret\"])\n",
    "    api = tweepy.API(auth)\n",
    "    \n",
    "    # Initialize a list to hold all the tweepy Tweets\n",
    "    alltweets = []    \n",
    "    \n",
    "    # Make initial request for most recent tweets (200 is the maximum allowed count)\n",
    "    new_tweets = api.user_timeline(screen_name = screen_name, count=200)\n",
    "    \n",
    "    # Save most recent tweets\n",
    "    alltweets.extend(new_tweets)\n",
    "    \n",
    "    # Save the id of the oldest tweet less one\n",
    "    oldest = alltweets[-1].id - 1\n",
    "    \n",
    "    # Keep grabbing tweets until there are no tweets left to grab\n",
    "    while len(new_tweets) > 0:\n",
    "        print \"getting tweets before %s\" % (oldest)\n",
    "        \n",
    "        # All subsiquent requests use the max_id param to prevent duplicates\n",
    "        new_tweets = api.user_timeline(screen_name = screen_name, count=200, max_id=oldest)\n",
    "        \n",
    "        # Save most recent tweets\n",
    "        alltweets.extend(new_tweets)\n",
    "        \n",
    "        # Update the id of the oldest tweet less one\n",
    "        oldest = alltweets[-1].id - 1\n",
    "        \n",
    "        print \"...%s tweets downloaded so far\" % (len(alltweets))\n",
    "    \n",
    "    # Transform the tweepy tweets into a 2D array that will populate the csv    \n",
    "    \n",
    "    # Keep only non-RTs\n",
    "    alltweets = [x for x in alltweets if not hasattr(x, 'retweeted_status')] \n",
    "    outtweets = [[tweet.id_str, tweet.created_at, tweet.retweet_count, tweet.text.encode(\"utf-8\")] for tweet in alltweets]\n",
    "    \n",
    "    # Write the csv    \n",
    "    with open('%s_tweets.csv' % screen_name, 'wb') as f:\n",
    "        writer = csv.writer(f)\n",
    "        writer.writerow([\"id\", \"created_at\", \"retweets\", \"text\"])\n",
    "        writer.writerows(outtweets)\n",
    "    \n",
    "    pass\n",
    "\n",
    "if __name__ == '__main__':\n",
    "    # Pass in the username of the account you want to download\n",
    "    get_all_tweets(\"wojespn\")"
   ]
  },
  {
   "cell_type": "code",
   "execution_count": null,
   "metadata": {
    "collapsed": false
   },
   "outputs": [],
   "source": [
    "# Grab .csv of all tweets and their retweet numbers\n",
    "\n",
    "woj = pd.read_csv('wojespn_tweets.csv')\n",
    "woj.head()"
   ]
  },
  {
   "cell_type": "code",
   "execution_count": null,
   "metadata": {
    "collapsed": false
   },
   "outputs": [],
   "source": [
    "# Run countvectorizer on text column\n",
    "\n",
    "import re\n",
    "\n",
    "# Remove URLs\n",
    "def clean_text(tweet):\n",
    "    return re.sub(r'http\\S+', '', tweet)\n",
    "\n",
    "woj[\"cleaned_text\"] = woj[\"text\"].apply(lambda x: clean_text(x))\n",
    "\n",
    "# Get the length of the tweet\n",
    "woj[\"tweet_length\"] = woj[\"text\"].apply(lambda x: len(x))\n",
    "\n",
    "# Get the hour and day of the tweet\n",
    "woj[\"tweet_hour\"] = woj[\"created_at\"].apply(lambda x: pd.to_datetime(x).hour)\n",
    "woj[\"tweet_day\"] = woj[\"created_at\"].apply(lambda x: pd.to_datetime(x).dayofweek)\n",
    "\n",
    "\n",
    "del woj[\"text\"]\n",
    "\n",
    "from sklearn.feature_extraction.text import TfidfVectorizer, CountVectorizer\n",
    "vectorizer = CountVectorizer(ngram_range=(1,3), stop_words='english')\n",
    "vectorizer = vectorizer.fit(woj[\"cleaned_text\"])\n",
    "countvectorizer = vectorizer.transform(woj[\"cleaned_text\"])\n",
    "\n",
    "woj"
   ]
  },
  {
   "cell_type": "code",
   "execution_count": null,
   "metadata": {
    "collapsed": false
   },
   "outputs": [],
   "source": [
    "words = vectorizer.get_feature_names()\n",
    "woj = pd.concat([woj, pd.DataFrame(countvectorizer.toarray(), columns=words)], axis=1)\n",
    "woj.head()"
   ]
  },
  {
   "cell_type": "code",
   "execution_count": null,
   "metadata": {
    "collapsed": false
   },
   "outputs": [],
   "source": [
    "# Build the model\n",
    "\n",
    "import numpy as np\n",
    "from sklearn.ensemble import RandomForestRegressor\n",
    "\n",
    "clf = RandomForestRegressor(n_estimators=10, max_depth=None, min_samples_split=2, random_state=0)\n",
    "woj['is_train'] = np.random.uniform(0, 1, len(woj)) <= .75\n",
    "train, test = woj[woj['is_train']==True], woj[woj['is_train']==False]\n",
    "\n",
    "clf.fit(train[words], train['retweets'])"
   ]
  },
  {
   "cell_type": "code",
   "execution_count": null,
   "metadata": {
    "collapsed": true
   },
   "outputs": [],
   "source": [
    "## Play around with various parameters\n",
    "\n",
    "from sklearn.metrics import mean_squared_error\n",
    "\n",
    "# clf = RandomForestRegressor(n_estimators=10, max_depth=None, min_samples_split=2, random_state=0)\n",
    "# clf.fit(train[words], train['retweets'])\n",
    "\n",
    "# mean_squared_error(test[['retweets']], clf.predict(test[words]))\n",
    "\n",
    "from sklearn.ensemble import ExtraTreesRegressor\n",
    "from sklearn.ensemble import GradientBoostingRegressor\n",
    "\n",
    "from sklearn.neighbors import KNeighborsRegressor\n",
    "from sklearn.linear_model import LinearRegression\n",
    "from sklearn.linear_model import RidgeCV\n",
    "from sklearn.linear_model import LassoCV\n",
    "\n",
    "from sklearn.model_selection import GridSearchCV\n",
    "\n",
    "params = {'n_estimators': 100, 'max_depth': 4, 'min_samples_split': 2,\n",
    "          'learning_rate': 0.01, 'loss': 'ls'}\n",
    "\n",
    "ESTIMATORS = {\n",
    "#     \"Extra trees\": ExtraTreesRegressor(n_estimators=10),\n",
    "#     \"Random Forests\": RandomForestRegressor(n_estimators=10),\n",
    "#     \"K-nn\": KNeighborsRegressor(),\n",
    "    \"Ridge\": RidgeCV(),\n",
    "#     \"Lasso\": LassoCV(), \n",
    "#     \"Gradient Boosting\": GradientBoostingRegressor(**params),\n",
    "}\n",
    "\n",
    "parameter_candidates = [\n",
    "  {'fit_intercept': [True, False], 'normalize': [True, False]},\n",
    "]\n",
    "\n",
    "# clf = GridSearchCV(estimator=estimator, param_grid=parameter_candidates, n_jobs=-1)\n",
    "\n",
    "y_test_predict = dict()\n",
    "for name, estimator in ESTIMATORS.items():\n",
    "    estimator = GridSearchCV(estimator=estimator, param_grid=parameter_candidates, n_jobs=-1)\n",
    "    estimator.fit(train[words], train['retweets'])\n",
    "    print name+\": \"+str(mean_squared_error(test[['retweets']], estimator.predict(test[words])))"
   ]
  },
  {
   "cell_type": "code",
   "execution_count": null,
   "metadata": {
    "collapsed": false
   },
   "outputs": [],
   "source": [
    "import matplotlib.pyplot as plt\n",
    "%matplotlib inline\n",
    "\n",
    "pd.concat([test[['retweets', 'cleaned_text']].reset_index(), pd.DataFrame(clf.predict(test[words]), columns=[\"predicted\"])], axis=1).sort_values('predicted')"
   ]
  },
  {
   "cell_type": "code",
   "execution_count": null,
   "metadata": {
    "collapsed": false
   },
   "outputs": [],
   "source": [
    "clf.feature_importances_\n",
    "feature_imps = pd.concat([pd.DataFrame(words, columns=[\"words\"]), pd.DataFrame(clf.feature_importances_, columns=[\"importances\"])], axis=1)\n",
    "feature_imps.sort_values(\"importances\", ascending=False)"
   ]
  },
  {
   "cell_type": "code",
   "execution_count": null,
   "metadata": {
    "collapsed": true
   },
   "outputs": [],
   "source": [
    "# export model\n",
    "\n",
    "from sklearn.externals import joblib\n",
    "joblib.dump(clf, 'model.pkl')\n",
    "joblib.dump(vectorizer, 'vectorizer.pkl')"
   ]
  },
  {
   "cell_type": "code",
   "execution_count": null,
   "metadata": {
    "collapsed": true
   },
   "outputs": [],
   "source": [
    "# Does this model work?"
   ]
  },
  {
   "cell_type": "code",
   "execution_count": null,
   "metadata": {
    "collapsed": true
   },
   "outputs": [],
   "source": [
    "trial_tweet = \"Magic league sources.\"\n",
    "clf.predict(vectorizer.transform([trial_tweet]).toarray())[0]"
   ]
  },
  {
   "cell_type": "code",
   "execution_count": null,
   "metadata": {
    "collapsed": true
   },
   "outputs": [],
   "source": [
    "trial_tweet = \"Magic league.\"\n",
    "clf.predict(vectorizer.transform([trial_tweet]).toarray())[0]"
   ]
  },
  {
   "cell_type": "code",
   "execution_count": null,
   "metadata": {
    "collapsed": true
   },
   "outputs": [],
   "source": [
    "trial_tweet = \"league sources\"\n",
    "clf.predict(vectorizer.transform([trial_tweet]).toarray())[0]"
   ]
  },
  {
   "cell_type": "code",
   "execution_count": null,
   "metadata": {
    "collapsed": true
   },
   "outputs": [],
   "source": [
    "trial_tweet = \"Magic sources.\"\n",
    "clf.predict(vectorizer.transform([trial_tweet]).toarray())[0]"
   ]
  },
  {
   "cell_type": "code",
   "execution_count": null,
   "metadata": {
    "collapsed": true
   },
   "outputs": [],
   "source": []
  }
 ],
 "metadata": {
  "kernelspec": {
   "display_name": "Python 2",
   "language": "python",
   "name": "python2"
  },
  "language_info": {
   "codemirror_mode": {
    "name": "ipython",
    "version": 2
   },
   "file_extension": ".py",
   "mimetype": "text/x-python",
   "name": "python",
   "nbconvert_exporter": "python",
   "pygments_lexer": "ipython2",
   "version": "2.7.10"
  }
 },
 "nbformat": 4,
 "nbformat_minor": 2
}
