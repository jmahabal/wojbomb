{
 "cells": [
  {
   "cell_type": "code",
   "execution_count": null,
   "metadata": {
    "collapsed": true
   },
   "outputs": [],
   "source": [
    "# Get links for Woj tweets from /r/NBA\n",
    "# Because Twitter doesn't like people getting more than 3200 tweets\n",
    "\n",
    "import pandas as pd\n",
    "import json"
   ]
  },
  {
   "cell_type": "code",
   "execution_count": null,
   "metadata": {
    "collapsed": true
   },
   "outputs": [],
   "source": [
    "import praw\n",
    "\n",
    "with open('secrets.json') as data_file:    \n",
    "    secrets = json.load(data_file)\n",
    "\n",
    "reddit = praw.Reddit(client_id = 'wQyIL-QZs7JUyg',\n",
    "                     client_secret = secrets[\"reddit_secret\"],\n",
    "                     password = secrets[\"reddit_password\"],\n",
    "                     user_agent = 'wojbomb detector script by /u/calcdeo',\n",
    "                     username = 'calcdeo')"
   ]
  },
  {
   "cell_type": "code",
   "execution_count": null,
   "metadata": {
    "collapsed": true
   },
   "outputs": [],
   "source": [
    "import datetime\n",
    "\n",
    "timestamps = []\n",
    "\n",
    "for i in range(0, 500): # 500 / 52 = ~10 years, we only really need 8 years for /r/NBA\n",
    "    ts1 = (datetime.date.today() - datetime.timedelta((i+1)*7)).strftime(\"%s\")\n",
    "    ts2 = (datetime.date.today() - datetime.timedelta((i)*7)).strftime(\"%s\")\n",
    "    timestamps.append([ts1, ts2])"
   ]
  },
  {
   "cell_type": "code",
   "execution_count": null,
   "metadata": {
    "collapsed": true
   },
   "outputs": [],
   "source": [
    "# Generate timestamp pairs for each week -- gonna assume that there aren't more than 100 Woj tweets in a week\n",
    "# Maybe there are -- in which case let's also make sure to count the number in each set, if we hit 100, \n",
    "#   then lets narrow the time gap\n",
    "\n",
    "import time\n",
    "\n",
    "woj_links = []\n",
    "\n",
    "k = 0\n",
    "for ts in timestamps:\n",
    "    submissions = reddit.subreddit('nba').search(\"(and timestamp:\" + ts[0] + \"..\" + ts[1] + \" title:'wojnarowski')\", syntax=\"cloudsearch\")\n",
    "    counter = 0\n",
    "    for submission in submissions:\n",
    "        counter += 1\n",
    "        row = [submission.title, submission.score, submission.created]\n",
    "        woj_links.append(row)\n",
    "    print \"Grabbed\", counter, \"submissions\"\n",
    "    if counter > 99:\n",
    "        print \"!!!  !!!  !!!  !!!  !!!\", ts\n",
    "    k += 1\n",
    "    if k % 2 == 0:\n",
    "        time.sleep(2)\n",
    "\n",
    "woj = pd.DataFrame(woj_links, columns=[\"Title\", \"Score\", \"Created\"])\n",
    "# woj.to_csv(\"woj_submissions.csv\", encoding='utf-8')\n",
    "woj.head()"
   ]
  },
  {
   "cell_type": "code",
   "execution_count": null,
   "metadata": {
    "collapsed": true
   },
   "outputs": [],
   "source": [
    "# There are only ~1200 or so rows... which means our original Twitter dataset was better\n",
    "# Oh well :(, it was worth a try."
   ]
  },
  {
   "cell_type": "code",
   "execution_count": null,
   "metadata": {
    "collapsed": true
   },
   "outputs": [],
   "source": []
  }
 ],
 "metadata": {
  "kernelspec": {
   "display_name": "Python 2",
   "language": "python",
   "name": "python2"
  },
  "language_info": {
   "codemirror_mode": {
    "name": "ipython",
    "version": 2
   },
   "file_extension": ".py",
   "mimetype": "text/x-python",
   "name": "python",
   "nbconvert_exporter": "python",
   "pygments_lexer": "ipython2",
   "version": "2.7.10"
  }
 },
 "nbformat": 4,
 "nbformat_minor": 2
}
